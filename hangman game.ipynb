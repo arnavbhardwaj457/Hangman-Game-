{
 "cells": [
  {
   "cell_type": "code",
   "execution_count": 2,
   "id": "d414cdeb-6052-4b7d-b5a2-ff842fb682b8",
   "metadata": {},
   "outputs": [
    {
     "name": "stderr",
     "output_type": "stream",
     "text": [
      "<>:57: SyntaxWarning: invalid escape sequence '\\ '\n",
      "<>:61: SyntaxWarning: invalid escape sequence '\\ '\n",
      "<>:63: SyntaxWarning: invalid escape sequence '\\ '\n",
      "<>:67: SyntaxWarning: invalid escape sequence '\\ '\n",
      "<>:69: SyntaxWarning: invalid escape sequence '\\ '\n",
      "<>:73: SyntaxWarning: invalid escape sequence '\\ '\n",
      "<>:75: SyntaxWarning: invalid escape sequence '\\ '\n",
      "<>:80: SyntaxWarning: invalid escape sequence '\\ '\n",
      "<>:82: SyntaxWarning: invalid escape sequence '\\ '\n",
      "<>:88: SyntaxWarning: invalid escape sequence '\\ '\n",
      "<>:89: SyntaxWarning: invalid escape sequence '\\ '\n",
      "<>:57: SyntaxWarning: invalid escape sequence '\\ '\n",
      "<>:61: SyntaxWarning: invalid escape sequence '\\ '\n",
      "<>:63: SyntaxWarning: invalid escape sequence '\\ '\n",
      "<>:67: SyntaxWarning: invalid escape sequence '\\ '\n",
      "<>:69: SyntaxWarning: invalid escape sequence '\\ '\n",
      "<>:73: SyntaxWarning: invalid escape sequence '\\ '\n",
      "<>:75: SyntaxWarning: invalid escape sequence '\\ '\n",
      "<>:80: SyntaxWarning: invalid escape sequence '\\ '\n",
      "<>:82: SyntaxWarning: invalid escape sequence '\\ '\n",
      "<>:88: SyntaxWarning: invalid escape sequence '\\ '\n",
      "<>:89: SyntaxWarning: invalid escape sequence '\\ '\n",
      "C:\\Users\\arnav\\AppData\\Local\\Temp\\ipykernel_10144\\51022706.py:57: SyntaxWarning: invalid escape sequence '\\ '\n",
      "  print(\"    / \\     \")\n",
      "C:\\Users\\arnav\\AppData\\Local\\Temp\\ipykernel_10144\\51022706.py:61: SyntaxWarning: invalid escape sequence '\\ '\n",
      "  print(\"   \\ O      \")\n",
      "C:\\Users\\arnav\\AppData\\Local\\Temp\\ipykernel_10144\\51022706.py:63: SyntaxWarning: invalid escape sequence '\\ '\n",
      "  print(\"    / \\     \")\n",
      "C:\\Users\\arnav\\AppData\\Local\\Temp\\ipykernel_10144\\51022706.py:67: SyntaxWarning: invalid escape sequence '\\ '\n",
      "  print(\"   \\ O /    \")\n",
      "C:\\Users\\arnav\\AppData\\Local\\Temp\\ipykernel_10144\\51022706.py:69: SyntaxWarning: invalid escape sequence '\\ '\n",
      "  print(\"    / \\     \")\n",
      "C:\\Users\\arnav\\AppData\\Local\\Temp\\ipykernel_10144\\51022706.py:73: SyntaxWarning: invalid escape sequence '\\ '\n",
      "  print(\"   \\ O /|   \")\n",
      "C:\\Users\\arnav\\AppData\\Local\\Temp\\ipykernel_10144\\51022706.py:75: SyntaxWarning: invalid escape sequence '\\ '\n",
      "  print(\"    / \\     \")\n",
      "C:\\Users\\arnav\\AppData\\Local\\Temp\\ipykernel_10144\\51022706.py:80: SyntaxWarning: invalid escape sequence '\\ '\n",
      "  print(\"   \\ O_|/   \")\n",
      "C:\\Users\\arnav\\AppData\\Local\\Temp\\ipykernel_10144\\51022706.py:82: SyntaxWarning: invalid escape sequence '\\ '\n",
      "  print(\"    / \\     \")\n",
      "C:\\Users\\arnav\\AppData\\Local\\Temp\\ipykernel_10144\\51022706.py:88: SyntaxWarning: invalid escape sequence '\\ '\n",
      "  print(\"    /|\\      \")\n",
      "C:\\Users\\arnav\\AppData\\Local\\Temp\\ipykernel_10144\\51022706.py:89: SyntaxWarning: invalid escape sequence '\\ '\n",
      "  print(\"    / \\     \")\n"
     ]
    },
    {
     "name": "stdin",
     "output_type": "stream",
     "text": [
      "Enter your name kjhgf\n"
     ]
    },
    {
     "name": "stdout",
     "output_type": "stream",
     "text": [
      "Welcome kjhgf\n",
      "-------------------\n",
      "try to guess the word in less than 10 attempts\n",
      "Guess the word: _ _ _ _ _ \n"
     ]
    },
    {
     "name": "stdin",
     "output_type": "stream",
     "text": [
      " l\n"
     ]
    },
    {
     "name": "stdout",
     "output_type": "stream",
     "text": [
      "9 turns left\n",
      "  --------  \n",
      "Guess the word: _ _ _ _ _ \n"
     ]
    },
    {
     "name": "stdin",
     "output_type": "stream",
     "text": [
      " p\n"
     ]
    },
    {
     "name": "stdout",
     "output_type": "stream",
     "text": [
      "8 turns left\n",
      "  --------  \n",
      "     O      \n",
      "Guess the word: _ _ _ _ _ \n"
     ]
    },
    {
     "name": "stdin",
     "output_type": "stream",
     "text": [
      " b\n"
     ]
    },
    {
     "name": "stdout",
     "output_type": "stream",
     "text": [
      "7 turns left\n",
      "  --------  \n",
      "     O      \n",
      "     |      \n",
      "Guess the word: _ _ _ _ _ \n"
     ]
    },
    {
     "name": "stdin",
     "output_type": "stream",
     "text": [
      " k\n"
     ]
    },
    {
     "name": "stdout",
     "output_type": "stream",
     "text": [
      "Guess the word: _ _ _ _ k\n"
     ]
    },
    {
     "name": "stdin",
     "output_type": "stream",
     "text": [
      " r\n"
     ]
    },
    {
     "name": "stdout",
     "output_type": "stream",
     "text": [
      "Guess the word: r_ _ _ k\n"
     ]
    },
    {
     "name": "stdin",
     "output_type": "stream",
     "text": [
      " l\n"
     ]
    },
    {
     "name": "stdout",
     "output_type": "stream",
     "text": [
      "6 turns left\n",
      "  --------  \n",
      "     O      \n",
      "     |      \n",
      "    /       \n",
      "Guess the word: r_ _ _ k\n"
     ]
    },
    {
     "name": "stdin",
     "output_type": "stream",
     "text": [
      " jk\n"
     ]
    },
    {
     "name": "stdout",
     "output_type": "stream",
     "text": [
      "5 turns left\n",
      "  --------  \n",
      "     O      \n",
      "     |      \n",
      "    / \\     \n",
      "Guess the word: r_ _ _ k\n"
     ]
    },
    {
     "name": "stdin",
     "output_type": "stream",
     "text": [
      " g\n"
     ]
    },
    {
     "name": "stdout",
     "output_type": "stream",
     "text": [
      "4 turns left\n",
      "  --------  \n",
      "   \\ O      \n",
      "     |      \n",
      "    / \\     \n",
      "Guess the word: r_ _ _ k\n"
     ]
    },
    {
     "name": "stdin",
     "output_type": "stream",
     "text": [
      " i\n"
     ]
    },
    {
     "name": "stdout",
     "output_type": "stream",
     "text": [
      "Guess the word: ri_ ik\n"
     ]
    },
    {
     "name": "stdin",
     "output_type": "stream",
     "text": [
      " n\n"
     ]
    },
    {
     "name": "stdout",
     "output_type": "stream",
     "text": [
      "3 turns left\n",
      "  --------  \n",
      "   \\ O /    \n",
      "     |      \n",
      "    / \\     \n",
      "Guess the word: ri_ ik\n"
     ]
    },
    {
     "name": "stdin",
     "output_type": "stream",
     "text": [
      " f\n"
     ]
    },
    {
     "name": "stdout",
     "output_type": "stream",
     "text": [
      "2 turns left\n",
      "  --------  \n",
      "   \\ O /|   \n",
      "     |      \n",
      "    / \\     \n",
      "Guess the word: ri_ ik\n"
     ]
    },
    {
     "name": "stdin",
     "output_type": "stream",
     "text": [
      " g\n"
     ]
    },
    {
     "name": "stdout",
     "output_type": "stream",
     "text": [
      "1 turns left\n",
      "Last breaths counting, Take care!\n",
      "  --------  \n",
      "   \\ O_|/   \n",
      "     |      \n",
      "    / \\     \n",
      "Guess the word: ri_ ik\n"
     ]
    },
    {
     "name": "stdin",
     "output_type": "stream",
     "text": [
      " q\n"
     ]
    },
    {
     "name": "stdout",
     "output_type": "stream",
     "text": [
      "You loose\n",
      "You let a kind man die\n",
      "  --------  \n",
      "     O_|    \n",
      "    /|\\      \n",
      "    / \\     \n",
      "\n"
     ]
    }
   ],
   "source": [
    "import random\n",
    "def hangman():\n",
    "\n",
    "    word = random.choice([\"arnav\" , \"bhardwaj\" , \"aditya\" , \"kaushik\" , \"sachin\" , \"prabhav\" , \"jai\" , \"ritik\" , \"superman\" , \"rohan\" ])\n",
    "    validLetters = 'abcdefghijklmnopqrstuvwxyz'\n",
    "    turns = 10\n",
    "    guessmade = ''\n",
    "\n",
    "    while len(word) > 0:\n",
    "        main = \"\"\n",
    "        missed = 0\n",
    "\n",
    "        for letter in word:\n",
    "            if letter in guessmade:\n",
    "                main = main + letter\n",
    "            else:\n",
    "                main = main + \"_\" + \" \"\n",
    "        if main == word:\n",
    "            print(main)\n",
    "            print(\"You win!\")\n",
    "            break\n",
    "\n",
    "        print(\"Guess the word:\" , main)\n",
    "        guess = input()\n",
    "\n",
    "        if guess in validLetters:\n",
    "            guessmade = guessmade + guess\n",
    "        else:\n",
    "            print(\"Enter a valid character\")\n",
    "            guess = input()\n",
    "\n",
    "        if guess not in word:\n",
    "            turns = turns - 1\n",
    "            if turns == 9:\n",
    "                print(\"9 turns left\")\n",
    "                print(\"  --------  \")\n",
    "            if turns == 8:\n",
    "                print(\"8 turns left\")\n",
    "                print(\"  --------  \")\n",
    "                print(\"     O      \")\n",
    "            if turns == 7:\n",
    "                print(\"7 turns left\")\n",
    "                print(\"  --------  \")\n",
    "                print(\"     O      \")\n",
    "                print(\"     |      \")\n",
    "            if turns == 6:\n",
    "                print(\"6 turns left\")\n",
    "                print(\"  --------  \")\n",
    "                print(\"     O      \")\n",
    "                print(\"     |      \")\n",
    "                print(\"    /       \")\n",
    "            if turns == 5:\n",
    "                print(\"5 turns left\")\n",
    "                print(\"  --------  \")\n",
    "                print(\"     O      \")\n",
    "                print(\"     |      \")\n",
    "                print(\"    / \\     \")\n",
    "            if turns == 4:\n",
    "                print(\"4 turns left\")\n",
    "                print(\"  --------  \")\n",
    "                print(\"   \\ O      \")\n",
    "                print(\"     |      \")\n",
    "                print(\"    / \\     \")\n",
    "            if turns == 3:\n",
    "                print(\"3 turns left\")\n",
    "                print(\"  --------  \")\n",
    "                print(\"   \\ O /    \")\n",
    "                print(\"     |      \")\n",
    "                print(\"    / \\     \")\n",
    "            if turns == 2:\n",
    "                print(\"2 turns left\")\n",
    "                print(\"  --------  \")\n",
    "                print(\"   \\ O /|   \")\n",
    "                print(\"     |      \")\n",
    "                print(\"    / \\     \")\n",
    "            if turns == 1:\n",
    "                print(\"1 turns left\")\n",
    "                print(\"Last breaths counting, Take care!\")\n",
    "                print(\"  --------  \")\n",
    "                print(\"   \\ O_|/   \")\n",
    "                print(\"     |      \")\n",
    "                print(\"    / \\     \")\n",
    "            if turns == 0:\n",
    "                print(\"You loose\")\n",
    "                print(\"You let a kind man die\")\n",
    "                print(\"  --------  \")\n",
    "                print(\"     O_|    \")\n",
    "                print(\"    /|\\      \")\n",
    "                print(\"    / \\     \")\n",
    "                break\n",
    "\n",
    "\n",
    "name = input(\"Enter your name\")\n",
    "print(\"Welcome\" , name )\n",
    "print(\"-------------------\")\n",
    "print(\"try to guess the word in less than 10 attempts\")\n",
    "hangman()\n",
    "print()\n"
   ]
  },
  {
   "cell_type": "code",
   "execution_count": null,
   "id": "85314e12-dfd6-44d6-b633-14bcc8f774b7",
   "metadata": {},
   "outputs": [],
   "source": []
  }
 ],
 "metadata": {
  "kernelspec": {
   "display_name": "Python 3 (ipykernel)",
   "language": "python",
   "name": "python3"
  },
  "language_info": {
   "codemirror_mode": {
    "name": "ipython",
    "version": 3
   },
   "file_extension": ".py",
   "mimetype": "text/x-python",
   "name": "python",
   "nbconvert_exporter": "python",
   "pygments_lexer": "ipython3",
   "version": "3.12.5"
  }
 },
 "nbformat": 4,
 "nbformat_minor": 5
}
